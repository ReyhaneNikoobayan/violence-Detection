{
  "nbformat": 4,
  "nbformat_minor": 0,
  "metadata": {
    "colab": {
      "provenance": [],
      "machine_shape": "hm",
      "gpuType": "T4",
      "authorship_tag": "ABX9TyP/zoshdQOkFZs/67ZMYXGi",
      "include_colab_link": true
    },
    "kernelspec": {
      "name": "python3",
      "display_name": "Python 3"
    },
    "language_info": {
      "name": "python"
    },
    "accelerator": "GPU"
  },
  "cells": [
    {
      "cell_type": "markdown",
      "metadata": {
        "id": "view-in-github",
        "colab_type": "text"
      },
      "source": [
        "<a href=\"https://colab.research.google.com/github/ReyhaneNikoobayan/violence-Detection/blob/main/Transformer.ipynb\" target=\"_parent\"><img src=\"https://colab.research.google.com/assets/colab-badge.svg\" alt=\"Open In Colab\"/></a>"
      ]
    },
    {
      "cell_type": "code",
      "execution_count": null,
      "metadata": {
        "colab": {
          "base_uri": "https://localhost:8080/"
        },
        "id": "Bg3xACsD1fxI",
        "outputId": "2d4374d7-e588-42c1-e29a-caf6d11ef2cc"
      },
      "outputs": [
        {
          "output_type": "stream",
          "name": "stdout",
          "text": [
            "Mounted at /content/drive\n"
          ]
        },
        {
          "output_type": "stream",
          "name": "stderr",
          "text": [
            "100%|██████████| 885/885 [02:13<00:00,  6.61it/s]\n",
            "  7%|▋         | 73/1000 [00:18<00:34, 26.53it/s]"
          ]
        },
        {
          "output_type": "stream",
          "name": "stdout",
          "text": [
            "Skipping NV_940.mp4: only 29 frames.\n"
          ]
        },
        {
          "output_type": "stream",
          "name": "stderr",
          "text": [
            "100%|██████████| 1000/1000 [01:29<00:00, 11.19it/s]"
          ]
        },
        {
          "output_type": "stream",
          "name": "stdout",
          "text": [
            "✅ Total videos RLVS loaded: 1835\n"
          ]
        },
        {
          "output_type": "stream",
          "name": "stderr",
          "text": [
            "\n"
          ]
        }
      ],
      "source": [
        "import cv2\n",
        "import os\n",
        "from sklearn.preprocessing import LabelEncoder\n",
        "from google.colab import drive\n",
        "from tqdm import tqdm\n",
        "\n",
        "# 1. Mount Google Drive\n",
        "drive.mount('/content/drive')\n",
        "\n",
        "# 2. Update paths to your dataset in Google Drive\n",
        "violence = '/content/drive/My Drive/RLVS/Real Life Violence Dataset/Violence'\n",
        "non_violence = '/content/drive/MyDrive/RLVS/Real Life Violence Dataset/NonViolence'\n",
        "\n",
        "# 3. Function to read exactly 50 evenly spaced frames from each video\n",
        "def read_videos_from_folder(folder_path, label):\n",
        "    videos = []\n",
        "    labels = []\n",
        "    for filename in tqdm(os.listdir(folder_path)):\n",
        "        if filename.endswith(\".mp4\"):\n",
        "            video_path = os.path.join(folder_path, filename)\n",
        "            cap = cv2.VideoCapture(video_path)\n",
        "            frames = []\n",
        "            total_frames = int(cap.get(cv2.CAP_PROP_FRAME_COUNT))\n",
        "            if total_frames < 30:\n",
        "                print(f\"Skipping {filename}: only {total_frames} frames.\")\n",
        "                cap.release()\n",
        "                continue\n",
        "            frame_indices = [int(i * total_frames / 30) for i in range(30)]\n",
        "            frame_count = 0\n",
        "            index_set = set(frame_indices)\n",
        "            while cap.isOpened():\n",
        "                ret, frame = cap.read()\n",
        "                if not ret:\n",
        "                    break\n",
        "                if frame_count in index_set:\n",
        "                    resized_frame = cv2.resize(frame, (128, 128))\n",
        "                    frames.append(resized_frame)\n",
        "                    if len(frames) == 30:\n",
        "                        break\n",
        "                frame_count += 1\n",
        "            cap.release()\n",
        "            if len(frames) == 30:\n",
        "                videos.append(frames)\n",
        "                labels.append(label)\n",
        "            else:\n",
        "                print(f\"Skipped {filename}: collected {len(frames)} frames.\")\n",
        "    return videos, labels\n",
        "\n",
        "# 4. Read videos\n",
        "videos_violence_RLVS, labels_violence_RLVS = read_videos_from_folder(violence, 'violence')\n",
        "videos_non_violence_RLVS, labels_non_violence_RLVS = read_videos_from_folder(non_violence, 'non_violence')\n",
        "\n",
        "# 5. Combine and summarize\n",
        "all_videos_RLVS = videos_violence_RLVS + videos_non_violence_RLVS\n",
        "all_labels_RLVS = labels_violence_RLVS + labels_non_violence_RLVS\n",
        "\n",
        "print(f\"✅ Total videos RLVS loaded: {len(all_videos_RLVS)}\")\n",
        "\n"
      ]
    },
    {
      "cell_type": "code",
      "source": [],
      "metadata": {
        "id": "aJc2_pcU90HU"
      },
      "execution_count": null,
      "outputs": []
    },
    {
      "cell_type": "code",
      "execution_count": null,
      "metadata": {
        "colab": {
          "base_uri": "https://localhost:8080/"
        },
        "id": "rRshz-fmJvEo",
        "outputId": "cb530fa3-648d-48af-d73d-2e0df637dc1c"
      },
      "outputs": [
        {
          "output_type": "stream",
          "name": "stdout",
          "text": [
            "Drive already mounted at /content/drive; to attempt to forcibly remount, call drive.mount(\"/content/drive\", force_remount=True).\n"
          ]
        },
        {
          "output_type": "stream",
          "name": "stderr",
          "text": [
            "100%|██████████| 800/800 [05:17<00:00,  2.52it/s]\n",
            "100%|██████████| 799/799 [07:21<00:00,  1.81it/s]\n",
            "100%|██████████| 200/200 [01:51<00:00,  1.80it/s]\n",
            "100%|██████████| 200/200 [01:45<00:00,  1.90it/s]"
          ]
        },
        {
          "output_type": "stream",
          "name": "stdout",
          "text": [
            "✅ Total RwF train_videos loaded: 1599\n",
            "✅ Total RWF val_videos loaded: 400\n"
          ]
        },
        {
          "output_type": "stream",
          "name": "stderr",
          "text": [
            "\n"
          ]
        }
      ],
      "source": [
        "import cv2\n",
        "import os\n",
        "from sklearn.preprocessing import LabelEncoder\n",
        "from google.colab import drive\n",
        "from tqdm import tqdm\n",
        "\n",
        "# 1. Mount Google Drive\n",
        "drive.mount('/content/drive')\n",
        "\n",
        "# 2. Update paths to your dataset in Google Drive\n",
        "train_violence = '/content/drive/My Drive/RWF2000/RWF-2000/train/Fight'\n",
        "train_non_violence='/content/drive/My Drive/RWF2000/RWF-2000/train/NonFight'\n",
        "val_violence= '/content/drive/My Drive/RWF2000/RWF-2000/val/Fight'\n",
        "val_non_violence = '/content/drive/My Drive/RWF2000/RWF-2000/val/NonFight'\n",
        "\n",
        "# 3. Function to read exactly 30 evenly spaced frames from each video\n",
        "def read_videos_from_folder(folder_path, label):\n",
        "    videos = []\n",
        "    labels = []\n",
        "    for filename in tqdm(os.listdir(folder_path)):\n",
        "        if filename.endswith(\".avi\"):\n",
        "            video_path = os.path.join(folder_path, filename)\n",
        "            cap = cv2.VideoCapture(video_path)\n",
        "            frames = []\n",
        "            total_frames = int(cap.get(cv2.CAP_PROP_FRAME_COUNT))\n",
        "            if total_frames < 30:\n",
        "                print(f\"Skipping {filename}: only {total_frames} frames.\")\n",
        "                cap.release()\n",
        "                continue\n",
        "            frame_indices = [int(i * total_frames / 30) for i in range(30)]\n",
        "            frame_count = 0\n",
        "            index_set = set(frame_indices)\n",
        "            while cap.isOpened():\n",
        "                ret, frame = cap.read()\n",
        "                if not ret:\n",
        "                    break\n",
        "                if frame_count in index_set:\n",
        "                    resized_frame = cv2.resize(frame, (128, 128))\n",
        "                    frames.append(resized_frame)\n",
        "                    if len(frames) == 30:\n",
        "                        break\n",
        "                frame_count += 1\n",
        "            cap.release()\n",
        "            if len(frames) == 30:\n",
        "                videos.append(frames)\n",
        "                labels.append(label)\n",
        "            else:\n",
        "                print(f\"Skipped {filename}: collected {len(frames)} frames.\")\n",
        "    return videos, labels\n",
        "\n",
        "# 4. Read videos\n",
        "videos_violence_RWF_train, labels_violence_RWF_train = read_videos_from_folder(train_violence, 'violence')\n",
        "videos_non_violence_RWF_train, labels_non_violence_RWF_train = read_videos_from_folder(train_non_violence, 'non_violence')\n",
        "\n",
        "videos_violence_RWF_val, labels_violence_RWF_val = read_videos_from_folder(val_violence, 'violence')\n",
        "videos_non_violence_RWF_val, labels_non_violence_RWF_val = read_videos_from_folder(val_non_violence, 'non_violence')\n",
        "\n",
        "\n",
        "# 5. Combine and summarize\n",
        "all_videos_train_RWF = videos_violence_RWF_train + videos_non_violence_RWF_train\n",
        "all_labels_train_RWF = labels_violence_RWF_train+ labels_non_violence_RWF_train\n",
        "\n",
        "all_videos_val_RWF = videos_violence_RWF_val + videos_non_violence_RWF_val\n",
        "all_labels_val_RWF= labels_violence_RWF_val+ labels_non_violence_RWF_val\n",
        "\n",
        "print(f\"✅ Total RwF train_videos loaded: {len(all_videos_train_RWF)}\")\n",
        "print(f\"✅ Total RWF val_videos loaded: {len(all_videos_val_RWF)}\")\n"
      ]
    },
    {
      "cell_type": "code",
      "execution_count": null,
      "metadata": {
        "colab": {
          "base_uri": "https://localhost:8080/"
        },
        "id": "WrYrJhg2_sZN",
        "outputId": "e5420e8a-661b-4b65-ca35-a62fdd5eea64"
      },
      "outputs": [
        {
          "output_type": "stream",
          "name": "stdout",
          "text": [
            "Training videos RLVS: 1468\n",
            "Validation videos RLVS: 367\n",
            "Training videos RWF: 1599\n",
            "Validation videos RWF: 400\n"
          ]
        }
      ],
      "source": [
        "import numpy as np\n",
        "from sklearn.model_selection import train_test_split\n",
        "from sklearn.preprocessing import LabelEncoder\n",
        "from tensorflow.keras.utils import to_categorical\n",
        "\n",
        "# Assume you have your labels in a list or array\n",
        "# For example, labels could be something like this:\n",
        "# all_labels = ['violence', 'non-violence', 'violence', ...]\n",
        "\n",
        "# Convert your video list and label list to numpy arrays for easier splitting\n",
        "all_videos_RLVS = np.array(all_videos_RLVS)\n",
        "all_videos_train_RWF= np.array(all_videos_train_RWF)\n",
        "all_videos_val_RWF = np.array(all_videos_val_RWF)\n",
        "\n",
        "all_labels_RLVS = np.array(all_labels_RLVS)  # Use the string labels\n",
        "all_labels_train_RWF = np.array(all_labels_train_RWF)\n",
        "all_labels_val_RWF= np.array(all_labels_val_RWF)\n",
        "\n",
        "\n",
        "\n",
        "\n",
        "# Encode the string labels to integer labels\n",
        "label_encoder = LabelEncoder()\n",
        "\n",
        "all_labels_RLVS_encoded = label_encoder.fit_transform(all_labels_RLVS)\n",
        "all_labels_train_RWF_encoded = label_encoder.fit_transform(all_labels_train_RWF)\n",
        "all_labels_val_RWF_encoded = label_encoder.fit_transform(all_labels_val_RWF)\n",
        "\n",
        "\n",
        "\n",
        "# Split into training (80%) and val (20%)\n",
        "all_videos_train_RLVS, all_videos_val_RLVS, all_labels_train_RLVS,all_labels_val_RLVS = train_test_split(\n",
        "    all_videos_RLVS, all_labels_RLVS_encoded, test_size=0.2, random_state=42, shuffle=True)\n",
        "\n",
        "\n",
        "\n",
        "print(f\"Training videos RLVS: {len(all_videos_train_RLVS)}\")\n",
        "print(f\"Validation videos RLVS: {len(all_videos_val_RLVS)}\")\n",
        "\n",
        "print(f\"Training videos RWF: {len(all_videos_train_RWF)}\")\n",
        "print(f\"Validation videos RWF: {len(all_videos_val_RWF)}\")\n",
        "\n",
        "\n",
        "\n",
        "\n"
      ]
    },
    {
      "cell_type": "code",
      "source": [],
      "metadata": {
        "id": "ZuDrDZGq99JK"
      },
      "execution_count": null,
      "outputs": []
    },
    {
      "cell_type": "code",
      "execution_count": null,
      "metadata": {
        "colab": {
          "base_uri": "https://localhost:8080/"
        },
        "id": "YVI_wrYn-mZX",
        "outputId": "0612ea80-a9a6-4f75-c65c-24942ed220b4"
      },
      "outputs": [
        {
          "output_type": "stream",
          "name": "stdout",
          "text": [
            "Total training videos: 3067\n",
            "Total validation videos: 767\n"
          ]
        }
      ],
      "source": [
        "import numpy as np\n",
        "from sklearn.utils import shuffle\n",
        "\n",
        "# Combine training sets\n",
        "combined_videos_train = np.concatenate((all_videos_train_RLVS, all_videos_train_RWF))\n",
        "combined_labels_train = np.concatenate((all_labels_train_RLVS, all_labels_train_RWF_encoded))  # Make sure both are encoded\n",
        "\n",
        "# Combine validation sets\n",
        "combined_videos_val = np.concatenate((all_videos_val_RLVS, all_videos_val_RWF))\n",
        "combined_labels_val = np.concatenate((all_labels_val_RLVS, all_labels_val_RWF_encoded))  # Make sure both are encoded\n",
        "\n",
        "# Shuffle training data\n",
        "x_train, labels_train = shuffle(combined_videos_train, combined_labels_train, random_state=42)\n",
        "\n",
        "# Shuffle validation data\n",
        "x_val, labels_val = shuffle(combined_videos_val, combined_labels_val, random_state=42)\n",
        "\n",
        "# Check sizes\n",
        "print(f\"Total training videos: {len(x_train)}\")\n",
        "print(f\"Total validation videos: {len(x_val)}\")\n"
      ]
    },
    {
      "cell_type": "code",
      "execution_count": null,
      "metadata": {
        "colab": {
          "base_uri": "https://localhost:8080/"
        },
        "id": "RQu_nWz8CieC",
        "outputId": "93031d84-042f-410a-b82c-128a0099598a"
      },
      "outputs": [
        {
          "output_type": "stream",
          "name": "stdout",
          "text": [
            "Training set size: 3067\n",
            "Validation set size: 767\n",
            "Test set size RLVS: 367\n",
            "Test set size RWF: 400\n",
            "torch.Size([64, 30, 128, 128, 3]) torch.Size([64])\n"
          ]
        }
      ],
      "source": [
        "import torch\n",
        "from torch.utils.data import Dataset, DataLoader\n",
        "import numpy as np\n",
        "\n",
        "class VideoDataset(Dataset):\n",
        "    def __init__(self, videos, labels):\n",
        "        self.videos = videos\n",
        "        self.labels = labels\n",
        "\n",
        "    def __len__(self):\n",
        "        return len(self.videos)\n",
        "\n",
        "    def __getitem__(self, idx):\n",
        "        video = self.videos[idx]\n",
        "        label = self.labels[idx]\n",
        "        video = video / 255.0\n",
        "        # Convert to tensors\n",
        "        video = torch.tensor(video, dtype=torch.float32)\n",
        "        label = torch.tensor(label, dtype=torch.long)\n",
        "        return video, label\n",
        "\n",
        "# Create datasets\n",
        "train_dataset = VideoDataset(x_train, labels_train)\n",
        "val_dataset = VideoDataset(x_val, labels_val)\n",
        "test_dataset_RLVS = VideoDataset(all_videos_val_RLVS, all_labels_val_RLVS)\n",
        "test_dataset_RWF = VideoDataset(all_videos_val_RWF, all_labels_val_RWF_encoded)\n",
        "\n",
        "# Create data loaders\n",
        "batch_size = 64\n",
        "\n",
        "train_loader = DataLoader(train_dataset, batch_size=batch_size, shuffle=True)\n",
        "val_loader = DataLoader(val_dataset, batch_size=batch_size, shuffle=False)\n",
        "test_loader_RLVS = DataLoader(test_dataset_RLVS, batch_size=batch_size, shuffle=False)\n",
        "test_loader_RWF= DataLoader(test_dataset_RWF, batch_size=batch_size, shuffle=False)\n",
        "\n",
        "# Print the sizes of the datasets\n",
        "print(f\"Training set size: {len(train_dataset)}\")\n",
        "print(f\"Validation set size: {len(val_dataset)}\")\n",
        "print(f\"Test set size RLVS: {len(test_dataset_RLVS)}\")\n",
        "print(f\"Test set size RWF: {len(test_dataset_RWF)}\")\n",
        "\n",
        "# Example of iterating through the data loader\n",
        "for videos, labels in train_loader:\n",
        "    print(videos.shape, labels.shape)\n",
        "    break\n"
      ]
    },
    {
      "cell_type": "code",
      "source": [
        "import torch\n",
        "import torch.nn as nn\n",
        "import torch.optim as optim\n",
        "from torch.utils.data import DataLoader, Dataset\n",
        "from torch.nn import TransformerEncoder, TransformerEncoderLayer\n",
        "import numpy as np\n",
        "import matplotlib.pyplot as plt\n",
        "from sklearn.metrics import confusion_matrix\n",
        "import seaborn as sns\n",
        "\n",
        "# Positional Encoding\n",
        "class PositionalEncoding(nn.Module):\n",
        "    def __init__(self, d_model, max_len=5000):\n",
        "        super(PositionalEncoding, self).__init__()\n",
        "        pe = torch.zeros(max_len, d_model)\n",
        "        position = torch.arange(0, max_len, dtype=torch.float).unsqueeze(1)\n",
        "        div_term = torch.exp(torch.arange(0, d_model, 2).float() * (-torch.log(torch.tensor(10000.0)) / d_model))\n",
        "        pe[:, 0::2] = torch.sin(position * div_term)\n",
        "        pe[:, 1::2] = torch.cos(position * div_term)\n",
        "        pe = pe.unsqueeze(0).transpose(0, 1)\n",
        "        self.register_buffer('pe', pe)\n",
        "\n",
        "    def forward(self, x):\n",
        "        x = x + self.pe[:x.size(0), :]\n",
        "        return x\n",
        "\n",
        "# Transformer Model for Video Classification\n",
        "class VideoTransformer(nn.Module):\n",
        "    def __init__(self, input_dim, embed_dim, num_heads, num_layers, num_classes):\n",
        "        super(VideoTransformer, self).__init__()\n",
        "        self.embedding = nn.Linear(input_dim, embed_dim)\n",
        "        self.pos_encoder = PositionalEncoding(embed_dim)\n",
        "        encoder_layers = TransformerEncoderLayer(embed_dim, num_heads, embed_dim*4)\n",
        "        self.transformer_encoder = TransformerEncoder(encoder_layers, num_layers)\n",
        "        self.fc = nn.Linear(embed_dim, num_classes)\n",
        "\n",
        "    def forward(self, x):\n",
        "        # Flatten spatial dimensions\n",
        "        batch_size, seq_len, h, w, c = x.size()\n",
        "        x = x.view(batch_size, seq_len, -1)  # Shape: (batch_size, seq_len, h * w * c)\n",
        "\n",
        "        # Embedding\n",
        "        x = self.embedding(x)  # Shape: (batch_size, seq_len, embed_dim)\n",
        "        x = self.pos_encoder(x.permute(1, 0, 2))  # Shape: (seq_len, batch_size, embed_dim)\n",
        "\n",
        "        # Transformer Encoder\n",
        "        x = self.transformer_encoder(x)  # Shape: (seq_len, batch_size, embed_dim)\n",
        "\n",
        "        # Classification Head\n",
        "        x = x.mean(dim=0)  # Shape: (batch_size, embed_dim)\n",
        "        x = self.fc(x)  # Shape: (batch_size, num_classes)\n",
        "        return x\n"
      ],
      "metadata": {
        "id": "ir6NN5k1-gf9"
      },
      "execution_count": null,
      "outputs": []
    },
    {
      "cell_type": "code",
      "source": [
        "# Model parameters\n",
        "input_dim = 128 * 128 * 3\n",
        "embed_dim = 512\n",
        "num_heads = 8\n",
        "num_layers = 6\n",
        "num_classes = 2\n",
        "\n",
        "# Initialize the model, loss function, and optimizer\n",
        "model = VideoTransformer(input_dim, embed_dim, num_heads, num_layers, num_classes)\n",
        "model = model.to('cuda' if torch.cuda.is_available() else 'cpu')\n",
        "\n",
        "criterion = nn.CrossEntropyLoss()\n",
        "optimizer = optim.Adam(model.parameters(), lr=1e-4)\n",
        "# Training loop\n",
        "num_epochs = 60\n",
        "train_losses = []\n",
        "val_losses = []\n",
        "train_accuracies = []\n",
        "val_accuracies = []\n",
        "\n",
        "for epoch in range(num_epochs):\n",
        "    model.train()\n",
        "    running_loss = 0.0\n",
        "    correct_train = 0\n",
        "    total_train = 0\n",
        "    for videos, labels in train_loader:\n",
        "        device = 'cuda' if torch.cuda.is_available() else 'cpu'\n",
        "        videos, labels = videos.to(device), labels.to(device)\n",
        "\n",
        "        optimizer.zero_grad()\n",
        "        outputs = model(videos)\n",
        "\n",
        "        loss = criterion(outputs, labels)\n",
        "        loss.backward()\n",
        "        optimizer.step()\n",
        "        running_loss += loss.item()\n",
        "\n",
        "        _, predicted = torch.max(outputs.data, 1)\n",
        "        total_train += labels.size(0)\n",
        "        correct_train += (predicted == labels).sum().item()\n",
        "\n",
        "    train_accuracy = 100 * correct_train / total_train\n",
        "    train_losses.append(running_loss / len(train_loader))\n",
        "    train_accuracies.append(train_accuracy)\n",
        "    print(f'Epoch [{epoch+1}/{num_epochs}], Loss: {running_loss/len(train_loader)}, Train Accuracy: {train_accuracy}%')\n",
        "\n",
        "    model.eval()\n",
        "    val_loss = 0.0\n",
        "    correct_val = 0\n",
        "    total_val = 0\n",
        "    with torch.no_grad():\n",
        "        for videos, labels in val_loader:\n",
        "            device = 'cuda' if torch.cuda.is_available() else 'cpu'\n",
        "            videos, labels = videos.to(device), labels.to(device)\n",
        "            outputs = model(videos)\n",
        "            loss = criterion(outputs, labels)\n",
        "            val_loss += loss.item()\n",
        "\n",
        "            _, predicted = torch.max(outputs.data, 1)\n",
        "            total_val += labels.size(0)\n",
        "            correct_val += (predicted == labels).sum().item()\n",
        "\n",
        "    val_accuracy = 100 * correct_val / total_val\n",
        "    val_losses.append(val_loss / len(val_loader))\n",
        "    val_accuracies.append(val_accuracy)\n",
        "    print(f'Validation Loss: {val_loss/len(val_loader)}, Validation Accuracy: {val_accuracy}%')\n",
        "\n",
        "# Plotting loss and accuracy\n",
        "epochs = range(1, num_epochs + 1)\n",
        "\n",
        "plt.figure(figsize=(12, 5))\n",
        "plt.subplot(1, 2, 1)\n",
        "plt.plot(epochs, train_losses, label='Training Loss')\n",
        "plt.plot(epochs, val_losses, label='Validation Loss')\n",
        "plt.xlabel('Epochs')\n",
        "plt.ylabel('Loss')\n",
        "plt.legend()\n",
        "plt.title('Loss')\n",
        "\n",
        "plt.subplot(1, 2, 2)\n",
        "plt.plot(epochs, train_accuracies, label='Training Accuracy')\n",
        "plt.plot(epochs, val_accuracies, label='Validation Accuracy')\n",
        "plt.xlabel('Epochs')\n",
        "plt.ylabel('Accuracy')\n",
        "plt.legend()\n",
        "plt.title('Accuracy')\n",
        "\n",
        "plt.tight_layout()\n",
        "plt.show()\n",
        "\n",
        "# Save the model\n",
        "torch.save(model.state_dict(), 'video_transformer.pth')\n",
        "\n",
        "# Test the model and plot confusion matrix\n",
        "model.eval()\n",
        "test_loss = 0.0\n",
        "correct_test = 0\n",
        "total_test = 0\n",
        "all_labels = []\n",
        "all_preds = []\n",
        "with torch.no_grad():\n",
        "    for videos, labels in test_loader:\n",
        "        device = 'cuda' if torch.cuda.is_available() else 'cpu'\n",
        "        videos, labels = videos.to(device), labels.to(device)\n",
        "        outputs = model(videos)\n",
        "        loss = criterion(outputs, labels)\n",
        "        test_loss += loss.item()\n",
        "\n",
        "        _, predicted = torch.max(outputs.data, 1)\n",
        "        total_test += labels.size(0)\n",
        "        correct_test += (predicted == labels).sum().item()\n",
        "\n",
        "        all_labels.extend(labels.cpu().numpy())\n",
        "        all_preds.extend(predicted.cpu().numpy())\n",
        "\n",
        "test_accuracy = 100 * correct_test / total_test\n",
        "print(f'Test Loss: {test_loss/len(test_loader)}, Test Accuracy: {test_accuracy}%')\n",
        "class_names=['nonviolence','violence']\n",
        "# Compute confusion matrix\n",
        "cm = confusion_matrix(all_labels, all_preds)\n",
        "cm_display = sns.heatmap(cm, annot=True, fmt='d', cmap='Blues', cbar=False,xticklabels=class_names,yticklabels=class_names)\n",
        "\n",
        "plt.xlabel('Predicted Labels')\n",
        "plt.ylabel('True Labels')\n",
        "plt.title('Confusion Matrix')\n",
        "plt.show()"
      ],
      "metadata": {
        "colab": {
          "base_uri": "https://localhost:8080/",
          "height": 1000
        },
        "id": "kKss78Ec-v-x",
        "outputId": "63a83c12-a88d-49db-9455-4cff269f02a9"
      },
      "execution_count": null,
      "outputs": [
        {
          "output_type": "stream",
          "name": "stderr",
          "text": [
            "/usr/local/lib/python3.11/dist-packages/torch/nn/modules/transformer.py:385: UserWarning: enable_nested_tensor is True, but self.use_nested_tensor is False because encoder_layer.self_attn.batch_first was not True(use batch_first for better inference performance)\n",
            "  warnings.warn(\n"
          ]
        },
        {
          "output_type": "stream",
          "name": "stdout",
          "text": [
            "Epoch [1/60], Loss: 0.7922918697198232, Train Accuracy: 50.04890772742093%\n",
            "Validation Loss: 0.6930754234393438, Validation Accuracy: 49.02216427640156%\n",
            "Epoch [2/60], Loss: 0.6998809824387232, Train Accuracy: 50.21193348549071%\n",
            "Validation Loss: 0.6926834831635157, Validation Accuracy: 50.97783572359844%\n",
            "Epoch [3/60], Loss: 0.6950217721362909, Train Accuracy: 50.24453863710466%\n",
            "Validation Loss: 0.6990236391623815, Validation Accuracy: 50.97783572359844%\n",
            "Epoch [4/60], Loss: 0.7047503044207891, Train Accuracy: 52.26605803716987%\n",
            "Validation Loss: 0.7270281314849854, Validation Accuracy: 50.97783572359844%\n",
            "Epoch [5/60], Loss: 0.703460942953825, Train Accuracy: 50.1467231822628%\n",
            "Validation Loss: 0.6966406106948853, Validation Accuracy: 50.97783572359844%\n",
            "Epoch [6/60], Loss: 0.6951782132188479, Train Accuracy: 50.37495924356048%\n",
            "Validation Loss: 0.7009394417206446, Validation Accuracy: 49.02216427640156%\n",
            "Epoch [7/60], Loss: 0.6977709333101908, Train Accuracy: 51.22269318552331%\n",
            "Validation Loss: 0.6904748578866323, Validation Accuracy: 49.02216427640156%\n",
            "Epoch [8/60], Loss: 0.6918121526638666, Train Accuracy: 53.08118682751875%\n",
            "Validation Loss: 0.6236405670642853, Validation Accuracy: 62.84224250325945%\n",
            "Epoch [9/60], Loss: 0.6730611535410086, Train Accuracy: 57.25464623410499%\n",
            "Validation Loss: 0.6534053186575571, Validation Accuracy: 63.88526727509778%\n",
            "Epoch [10/60], Loss: 0.6634018334249655, Train Accuracy: 59.667427453537655%\n",
            "Validation Loss: 0.6420224209626516, Validation Accuracy: 58.40938722294654%\n",
            "Epoch [11/60], Loss: 0.6297388511399428, Train Accuracy: 64.23214867949136%\n",
            "Validation Loss: 0.6367101867993673, Validation Accuracy: 59.19165580182529%\n",
            "Epoch [12/60], Loss: 0.624441626171271, Train Accuracy: 64.42777958917509%\n",
            "Validation Loss: 1.0643858412901561, Validation Accuracy: 53.32464146023468%\n",
            "Epoch [13/60], Loss: 0.6997108397384485, Train Accuracy: 53.04858167590479%\n",
            "Validation Loss: 0.689735492070516, Validation Accuracy: 56.714471968709255%\n",
            "Epoch [14/60], Loss: 0.6781039498746395, Train Accuracy: 56.56993805021193%\n",
            "Validation Loss: 0.6757490138212839, Validation Accuracy: 57.75749674054759%\n",
            "Epoch [15/60], Loss: 0.6366573224465052, Train Accuracy: 62.40626018910988%\n",
            "Validation Loss: 0.8015857487916946, Validation Accuracy: 54.10691003911343%\n",
            "Epoch [16/60], Loss: 0.5841554099073013, Train Accuracy: 67.88392566025432%\n",
            "Validation Loss: 0.570942203203837, Validation Accuracy: 70.01303780964798%\n",
            "Epoch [17/60], Loss: 0.5980080775916576, Train Accuracy: 66.80795565699381%\n",
            "Validation Loss: 0.5818291952212652, Validation Accuracy: 69.6219035202086%\n",
            "Epoch [18/60], Loss: 0.5617617579797903, Train Accuracy: 69.67720899902184%\n",
            "Validation Loss: 0.5837397823731104, Validation Accuracy: 64.53715775749674%\n",
            "Epoch [19/60], Loss: 0.5292292765031258, Train Accuracy: 72.08999021845452%\n",
            "Validation Loss: 0.8873343815406164, Validation Accuracy: 54.88917861799218%\n",
            "Epoch [20/60], Loss: 0.5409958455711603, Train Accuracy: 71.50309748940333%\n",
            "Validation Loss: 0.7002276082833608, Validation Accuracy: 62.05997392438071%\n",
            "Epoch [21/60], Loss: 0.4903707057237625, Train Accuracy: 75.38311053146397%\n",
            "Validation Loss: 0.5836088185509046, Validation Accuracy: 71.31681877444589%\n",
            "Epoch [22/60], Loss: 0.5628347968061765, Train Accuracy: 67.85132050864037%\n",
            "Validation Loss: 0.5528822044531504, Validation Accuracy: 70.01303780964798%\n",
            "Epoch [23/60], Loss: 0.4454656923189759, Train Accuracy: 78.28496902510597%\n",
            "Validation Loss: 0.6957595944404602, Validation Accuracy: 71.05606258148632%\n",
            "Epoch [24/60], Loss: 0.4173197740068038, Train Accuracy: 79.1327029670688%\n",
            "Validation Loss: 0.9840362916390101, Validation Accuracy: 67.27509778357236%\n",
            "Epoch [25/60], Loss: 0.3992084339261055, Train Accuracy: 80.66514509292469%\n",
            "Validation Loss: 1.0380250066518784, Validation Accuracy: 56.714471968709255%\n",
            "Epoch [26/60], Loss: 0.3937274580821395, Train Accuracy: 80.89338115422237%\n",
            "Validation Loss: 0.9137289275725683, Validation Accuracy: 63.363754889178615%\n",
            "Epoch [27/60], Loss: 0.4123151597256462, Train Accuracy: 79.58917508966417%\n",
            "Validation Loss: 0.5344680696725845, Validation Accuracy: 73.53324641460235%\n",
            "Epoch [28/60], Loss: 0.3863964177047213, Train Accuracy: 80.66514509292469%\n",
            "Validation Loss: 0.5937910005450249, Validation Accuracy: 71.05606258148632%\n",
            "Epoch [29/60], Loss: 0.37793323304504156, Train Accuracy: 82.06716661232474%\n",
            "Validation Loss: 0.6366977865497271, Validation Accuracy: 70.79530638852673%\n",
            "Epoch [30/60], Loss: 0.33843466608474654, Train Accuracy: 84.28431692207369%\n",
            "Validation Loss: 0.955723042289416, Validation Accuracy: 63.88526727509778%\n",
            "Epoch [31/60], Loss: 0.33289314185579616, Train Accuracy: 84.38213237691555%\n",
            "Validation Loss: 0.7545492251714071, Validation Accuracy: 70.66492829204694%\n",
            "Epoch [32/60], Loss: 0.32426360342651606, Train Accuracy: 85.16465601565048%\n",
            "Validation Loss: 0.591683325668176, Validation Accuracy: 70.27379400260756%\n",
            "Epoch [33/60], Loss: 0.250236712085704, Train Accuracy: 88.84903814802739%\n",
            "Validation Loss: 0.6997667004664739, Validation Accuracy: 72.6205997392438%\n",
            "Epoch [34/60], Loss: 0.24031785099456707, Train Accuracy: 89.40332572546463%\n",
            "Validation Loss: 0.6507194762428602, Validation Accuracy: 73.92438070404172%\n",
            "Epoch [35/60], Loss: 0.2327932007610798, Train Accuracy: 90.34887512226932%\n",
            "Validation Loss: 0.6785754213730494, Validation Accuracy: 73.92438070404172%\n",
            "Epoch [36/60], Loss: 0.304427530306081, Train Accuracy: 86.33844147375285%\n",
            "Validation Loss: 1.456310545404752, Validation Accuracy: 65.44980443285527%\n",
            "Epoch [37/60], Loss: 0.29110912792384624, Train Accuracy: 86.56667753505054%\n",
            "Validation Loss: 0.9931129117806753, Validation Accuracy: 72.49022164276401%\n",
            "Epoch [38/60], Loss: 0.1908996660883228, Train Accuracy: 92.33778937072057%\n",
            "Validation Loss: 0.8521894812583923, Validation Accuracy: 70.27379400260756%\n",
            "Epoch [39/60], Loss: 0.2010197431469957, Train Accuracy: 92.04434300619498%\n",
            "Validation Loss: 0.9888516167799631, Validation Accuracy: 73.14211212516297%\n",
            "Epoch [40/60], Loss: 0.2153554727944235, Train Accuracy: 90.96837300293447%\n",
            "Validation Loss: 0.9935794572035471, Validation Accuracy: 68.0573663624511%\n",
            "Epoch [41/60], Loss: 0.24069959057184556, Train Accuracy: 89.5663514835344%\n",
            "Validation Loss: 1.1493861774603527, Validation Accuracy: 71.57757496740548%\n",
            "Epoch [42/60], Loss: 0.15809301938861609, Train Accuracy: 93.51157482882296%\n",
            "Validation Loss: 0.765432337919871, Validation Accuracy: 74.1851368970013%\n",
            "Epoch [43/60], Loss: 0.1518977532784144, Train Accuracy: 93.90283664819042%\n",
            "Validation Loss: 1.4124926527341206, Validation Accuracy: 67.79661016949153%\n",
            "Epoch [44/60], Loss: 0.16874200548045337, Train Accuracy: 93.478969677209%\n",
            "Validation Loss: 0.9514956672986349, Validation Accuracy: 71.31681877444589%\n",
            "Epoch [45/60], Loss: 0.17324119967330867, Train Accuracy: 92.8268666449299%\n",
            "Validation Loss: 1.0147277961174648, Validation Accuracy: 74.3155149934811%\n",
            "Epoch [46/60], Loss: 0.1705803597190728, Train Accuracy: 92.85947179654386%\n",
            "Validation Loss: 0.832193449139595, Validation Accuracy: 72.22946544980444%\n",
            "Epoch [47/60], Loss: 0.12643198253742108, Train Accuracy: 94.97880665145092%\n",
            "Validation Loss: 1.0997172991434734, Validation Accuracy: 72.6205997392438%\n",
            "Epoch [48/60], Loss: 0.1684167170121024, Train Accuracy: 93.25073361591132%\n",
            "Validation Loss: 0.818883885939916, Validation Accuracy: 71.44719687092568%\n",
            "Epoch [49/60], Loss: 0.13793963756567487, Train Accuracy: 94.7831757417672%\n",
            "Validation Loss: 0.988577221830686, Validation Accuracy: 70.27379400260756%\n",
            "Epoch [50/60], Loss: 0.14163812005426735, Train Accuracy: 94.26149331594392%\n",
            "Validation Loss: 1.2893108973900478, Validation Accuracy: 69.6219035202086%\n",
            "Epoch [51/60], Loss: 0.08688342742001016, Train Accuracy: 96.77208999021846%\n",
            "Validation Loss: 1.0414102574189503, Validation Accuracy: 70.01303780964798%\n",
            "Epoch [52/60], Loss: 0.0706317051857089, Train Accuracy: 97.58721878056733%\n",
            "Validation Loss: 1.6876874764760335, Validation Accuracy: 64.40677966101696%\n",
            "Epoch [53/60], Loss: 0.08940419667245199, Train Accuracy: 96.15259210955331%\n",
            "Validation Loss: 1.5070133904616039, Validation Accuracy: 71.1864406779661%\n",
            "Epoch [54/60], Loss: 0.06551697404453687, Train Accuracy: 97.35898271926965%\n",
            "Validation Loss: 1.5100372731685638, Validation Accuracy: 66.10169491525424%\n",
            "Epoch [55/60], Loss: 0.07245929622634624, Train Accuracy: 97.52200847733943%\n",
            "Validation Loss: 1.5148773243029912, Validation Accuracy: 71.1864406779661%\n",
            "Epoch [56/60], Loss: 0.10049990451079793, Train Accuracy: 96.21780241278123%\n",
            "Validation Loss: 1.3654310752948124, Validation Accuracy: 68.3181225554107%\n",
            "Epoch [57/60], Loss: 0.08306651593496402, Train Accuracy: 96.7394848386045%\n",
            "Validation Loss: 1.0665692389011383, Validation Accuracy: 70.66492829204694%\n",
            "Epoch [58/60], Loss: 0.08779765314830001, Train Accuracy: 96.7394848386045%\n",
            "Validation Loss: 0.9349571391940117, Validation Accuracy: 71.96870925684485%\n",
            "Epoch [59/60], Loss: 0.10651622716492663, Train Accuracy: 95.66351483534399%\n",
            "Validation Loss: 1.2620576322078705, Validation Accuracy: 70.92568448500651%\n",
            "Epoch [60/60], Loss: 0.0503436241512342, Train Accuracy: 98.10890120639061%\n",
            "Validation Loss: 1.6587860931952794, Validation Accuracy: 70.14341590612777%\n"
          ]
        },
        {
          "output_type": "display_data",
          "data": {
            "text/plain": [
              "<Figure size 1200x500 with 2 Axes>"
            ],
            "image/png": "[encoded data removed]"
          },
          "metadata": {}
        },
        {
          "output_type": "error",
          "ename": "NameError",
          "evalue": "name 'test_loader' is not defined",
          "traceback": [
            "\u001b[0;31m---------------------------------------------------------------------------\u001b[0m",
            "\u001b[0;31mNameError\u001b[0m                                 Traceback (most recent call last)",
            "\u001b[0;32m/tmp/ipython-input-7-3249118139.py\u001b[0m in \u001b[0;36m<cell line: 0>\u001b[0;34m()\u001b[0m\n\u001b[1;32m    100\u001b[0m \u001b[0mall_preds\u001b[0m \u001b[0;34m=\u001b[0m \u001b[0;34m[\u001b[0m\u001b[0;34m]\u001b[0m\u001b[0;34m\u001b[0m\u001b[0;34m\u001b[0m\u001b[0m\n\u001b[1;32m    101\u001b[0m \u001b[0;32mwith\u001b[0m \u001b[0mtorch\u001b[0m\u001b[0;34m.\u001b[0m\u001b[0mno_grad\u001b[0m\u001b[0;34m(\u001b[0m\u001b[0;34m)\u001b[0m\u001b[0;34m:\u001b[0m\u001b[0;34m\u001b[0m\u001b[0;34m\u001b[0m\u001b[0m\n\u001b[0;32m--> 102\u001b[0;31m     \u001b[0;32mfor\u001b[0m \u001b[0mvideos\u001b[0m\u001b[0;34m,\u001b[0m \u001b[0mlabels\u001b[0m \u001b[0;32min\u001b[0m \u001b[0mtest_loader\u001b[0m\u001b[0;34m:\u001b[0m\u001b[0;34m\u001b[0m\u001b[0;34m\u001b[0m\u001b[0m\n\u001b[0m\u001b[1;32m    103\u001b[0m         \u001b[0mdevice\u001b[0m \u001b[0;34m=\u001b[0m \u001b[0;34m'cuda'\u001b[0m \u001b[0;32mif\u001b[0m \u001b[0mtorch\u001b[0m\u001b[0;34m.\u001b[0m\u001b[0mcuda\u001b[0m\u001b[0;34m.\u001b[0m\u001b[0mis_available\u001b[0m\u001b[0;34m(\u001b[0m\u001b[0;34m)\u001b[0m \u001b[0;32melse\u001b[0m \u001b[0;34m'cpu'\u001b[0m\u001b[0;34m\u001b[0m\u001b[0;34m\u001b[0m\u001b[0m\n\u001b[1;32m    104\u001b[0m         \u001b[0mvideos\u001b[0m\u001b[0;34m,\u001b[0m \u001b[0mlabels\u001b[0m \u001b[0;34m=\u001b[0m \u001b[0mvideos\u001b[0m\u001b[0;34m.\u001b[0m\u001b[0mto\u001b[0m\u001b[0;34m(\u001b[0m\u001b[0mdevice\u001b[0m\u001b[0;34m)\u001b[0m\u001b[0;34m,\u001b[0m \u001b[0mlabels\u001b[0m\u001b[0;34m.\u001b[0m\u001b[0mto\u001b[0m\u001b[0;34m(\u001b[0m\u001b[0mdevice\u001b[0m\u001b[0;34m)\u001b[0m\u001b[0;34m\u001b[0m\u001b[0;34m\u001b[0m\u001b[0m\n",
            "\u001b[0;31mNameError\u001b[0m: name 'test_loader' is not defined"
          ]
        }
      ]
    },
    {
      "cell_type": "code",
      "source": [],
      "metadata": {
        "id": "xouHOAszMVvP"
      },
      "execution_count": null,
      "outputs": []
    },
    {
      "cell_type": "code",
      "execution_count": null,
      "metadata": {
        "colab": {
          "base_uri": "https://localhost:8080/"
        },
        "id": "-mQowzBiFZ3L",
        "outputId": "79aceb4e-68ab-455b-b9b0-0f174e7e293e"
      },
      "outputs": [
        {
          "output_type": "stream",
          "name": "stdout",
          "text": [
            "Total trainable parameters: 44,081,666\n",
            "Model size: 177.92 MB\n"
          ]
        }
      ],
      "source": [
        "def count_parameters(model):\n",
        "    return sum(p.numel() for p in model.parameters() if p.requires_grad)\n",
        "\n",
        "total_params = count_parameters(model)\n",
        "print(f\"Total trainable parameters: {total_params:,}\")\n",
        "\n",
        "def get_model_size(model):\n",
        "    param_size = 0\n",
        "    for param in model.parameters():\n",
        "        param_size += param.nelement() * param.element_size()\n",
        "    buffer_size = 0\n",
        "    for buffer in model.buffers():\n",
        "        buffer_size += buffer.nelement() * buffer.element_size()\n",
        "    size_all_mb = (param_size + buffer_size) / 1024**2\n",
        "    return size_all_mb\n",
        "\n",
        "model_size_mb = get_model_size(model)\n",
        "print(f\"Model size: {model_size_mb:.2f} MB\")"
      ]
    }
  ]
}