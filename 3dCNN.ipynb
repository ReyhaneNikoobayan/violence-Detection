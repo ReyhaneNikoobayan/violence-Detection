{
  "nbformat": 4,
  "nbformat_minor": 0,
  "metadata": {
    "colab": {
      "provenance": [],
      "machine_shape": "hm",
      "gpuType": "T4",
      "authorship_tag": "ABX9TyP/CvVTtT0ji0PZ/cqvBLJd",
      "include_colab_link": true
    },
    "kernelspec": {
      "name": "python3",
      "display_name": "Python 3"
    },
    "language_info": {
      "name": "python"
    },
    "accelerator": "GPU"
  },
  "cells": [
    {
      "cell_type": "markdown",
      "metadata": {
        "id": "view-in-github",
        "colab_type": "text"
      },
      "source": [
        "<a href=\"https://colab.research.google.com/github/ReyhaneNikoobayan/violence-Detection/blob/main/3dCNN.ipynb\" target=\"_parent\"><img src=\"https://colab.research.google.com/assets/colab-badge.svg\" alt=\"Open In Colab\"/></a>"
      ]
    },
    {
      "cell_type": "code",
      "execution_count": null,
      "metadata": {
        "colab": {
          "base_uri": "https://localhost:8080/"
        },
        "id": "Bg3xACsD1fxI",
        "outputId": "f4b48aff-af6f-4dce-b10f-d123523dd167"
      },
      "outputs": [
        {
          "output_type": "stream",
          "name": "stdout",
          "text": [
            "Mounted at /content/drive\n"
          ]
        },
        {
          "output_type": "stream",
          "name": "stderr",
          "text": [
            "100%|██████████| 885/885 [02:42<00:00,  5.44it/s]\n",
            "  7%|▋         | 69/1000 [00:18<01:05, 14.23it/s]"
          ]
        },
        {
          "output_type": "stream",
          "name": "stdout",
          "text": [
            "Skipping NV_940.mp4: only 29 frames.\n"
          ]
        },
        {
          "output_type": "stream",
          "name": "stderr",
          "text": [
            "100%|██████████| 1000/1000 [01:59<00:00,  8.34it/s]"
          ]
        },
        {
          "output_type": "stream",
          "name": "stdout",
          "text": [
            "✅ Total videos RLVS loaded: 1835\n"
          ]
        },
        {
          "output_type": "stream",
          "name": "stderr",
          "text": [
            "\n"
          ]
        }
      ],
      "source": [
        "import cv2\n",
        "import os\n",
        "from sklearn.preprocessing import LabelEncoder\n",
        "from google.colab import drive\n",
        "from tqdm import tqdm\n",
        "\n",
        "# 1. Mount Google Drive\n",
        "drive.mount('/content/drive')\n",
        "\n",
        "# 2. Update paths to your dataset in Google Drive\n",
        "violence = '/content/drive/My Drive/RLVS/Real Life Violence Dataset/Violence'\n",
        "non_violence = '/content/drive/MyDrive/RLVS/Real Life Violence Dataset/NonViolence'\n",
        "\n",
        "# 3. Function to read exactly 50 evenly spaced frames from each video\n",
        "def read_videos_from_folder(folder_path, label):\n",
        "    videos = []\n",
        "    labels = []\n",
        "    for filename in tqdm(os.listdir(folder_path)):\n",
        "        if filename.endswith(\".mp4\"):\n",
        "            video_path = os.path.join(folder_path, filename)\n",
        "            cap = cv2.VideoCapture(video_path)\n",
        "            frames = []\n",
        "            total_frames = int(cap.get(cv2.CAP_PROP_FRAME_COUNT))\n",
        "            if total_frames < 30:\n",
        "                print(f\"Skipping {filename}: only {total_frames} frames.\")\n",
        "                cap.release()\n",
        "                continue\n",
        "            frame_indices = [int(i * total_frames / 30) for i in range(30)]\n",
        "            frame_count = 0\n",
        "            index_set = set(frame_indices)\n",
        "            while cap.isOpened():\n",
        "                ret, frame = cap.read()\n",
        "                if not ret:\n",
        "                    break\n",
        "                if frame_count in index_set:\n",
        "                    resized_frame = cv2.resize(frame, (112, 112))\n",
        "                    frames.append(resized_frame)\n",
        "                    if len(frames) == 30:\n",
        "                        break\n",
        "                frame_count += 1\n",
        "            cap.release()\n",
        "            if len(frames) == 30:\n",
        "                videos.append(frames)\n",
        "                labels.append(label)\n",
        "            else:\n",
        "                print(f\"Skipped {filename}: collected {len(frames)} frames.\")\n",
        "    return videos, labels\n",
        "\n",
        "# 4. Read videos\n",
        "videos_violence_RLVS, labels_violence_RLVS = read_videos_from_folder(violence, 'violence')\n",
        "videos_non_violence_RLVS, labels_non_violence_RLVS = read_videos_from_folder(non_violence, 'non_violence')\n",
        "\n",
        "# 5. Combine and summarize\n",
        "all_videos_RLVS = videos_violence_RLVS + videos_non_violence_RLVS\n",
        "all_labels_RLVS = labels_violence_RLVS + labels_non_violence_RLVS\n",
        "\n",
        "\n",
        "\n",
        "print(f\"✅ Total videos RLVS loaded: {len(all_videos_RLVS)}\")\n",
        "\n"
      ]
    },
    {
      "cell_type": "code",
      "execution_count": null,
      "metadata": {
        "colab": {
          "base_uri": "https://localhost:8080/"
        },
        "id": "rRshz-fmJvEo",
        "outputId": "4cd46ed8-999a-46e8-fd49-d2ff2260ccb7"
      },
      "outputs": [
        {
          "output_type": "stream",
          "name": "stdout",
          "text": [
            "Drive already mounted at /content/drive; to attempt to forcibly remount, call drive.mount(\"/content/drive\", force_remount=True).\n"
          ]
        },
        {
          "output_type": "stream",
          "name": "stderr",
          "text": [
            "100%|██████████| 800/800 [05:30<00:00,  2.42it/s]\n",
            "100%|██████████| 799/799 [04:03<00:00,  3.28it/s]\n",
            "100%|██████████| 200/200 [01:43<00:00,  1.93it/s]\n",
            "100%|██████████| 200/200 [01:19<00:00,  2.51it/s]"
          ]
        },
        {
          "output_type": "stream",
          "name": "stdout",
          "text": [
            "✅ Total RwF train_videos loaded: 1599\n",
            "✅ Total RWF val_videos loaded: 400\n"
          ]
        },
        {
          "output_type": "stream",
          "name": "stderr",
          "text": [
            "\n"
          ]
        }
      ],
      "source": [
        "import cv2\n",
        "import os\n",
        "from sklearn.preprocessing import LabelEncoder\n",
        "from google.colab import drive\n",
        "from tqdm import tqdm\n",
        "\n",
        "# 1. Mount Google Drive\n",
        "drive.mount('/content/drive')\n",
        "\n",
        "# 2. Update paths to your dataset in Google Drive\n",
        "train_violence = '/content/drive/My Drive/RWF2000/RWF-2000/train/Fight'\n",
        "train_non_violence='/content/drive/My Drive/RWF2000/RWF-2000/train/NonFight'\n",
        "val_violence= '/content/drive/My Drive/RWF2000/RWF-2000/val/Fight'\n",
        "val_non_violence = '/content/drive/My Drive/RWF2000/RWF-2000/val/NonFight'\n",
        "\n",
        "# 3. Function to read exactly 30 evenly spaced frames from each video\n",
        "def read_videos_from_folder(folder_path, label):\n",
        "    videos = []\n",
        "    labels = []\n",
        "    for filename in tqdm(os.listdir(folder_path)):\n",
        "        if filename.endswith(\".avi\"):\n",
        "            video_path = os.path.join(folder_path, filename)\n",
        "            cap = cv2.VideoCapture(video_path)\n",
        "            frames = []\n",
        "            total_frames = int(cap.get(cv2.CAP_PROP_FRAME_COUNT))\n",
        "            if total_frames < 30:\n",
        "                print(f\"Skipping {filename}: only {total_frames} frames.\")\n",
        "                cap.release()\n",
        "                continue\n",
        "            frame_indices = [int(i * total_frames / 30) for i in range(30)]\n",
        "            frame_count = 0\n",
        "            index_set = set(frame_indices)\n",
        "            while cap.isOpened():\n",
        "                ret, frame = cap.read()\n",
        "                if not ret:\n",
        "                    break\n",
        "                if frame_count in index_set:\n",
        "                    resized_frame = cv2.resize(frame, (112, 112))\n",
        "                    frames.append(resized_frame)\n",
        "                    if len(frames) == 30:\n",
        "                        break\n",
        "                frame_count += 1\n",
        "            cap.release()\n",
        "            if len(frames) == 30:\n",
        "                videos.append(frames)\n",
        "                labels.append(label)\n",
        "            else:\n",
        "                print(f\"Skipped {filename}: collected {len(frames)} frames.\")\n",
        "    return videos, labels\n",
        "\n",
        "# 4. Read videos\n",
        "videos_violence_RWF_train, labels_violence_RWF_train = read_videos_from_folder(train_violence, 'violence')\n",
        "videos_non_violence_RWF_train, labels_non_violence_RWF_train = read_videos_from_folder(train_non_violence, 'non_violence')\n",
        "\n",
        "videos_violence_RWF_val, labels_violence_RWF_val = read_videos_from_folder(val_violence, 'violence')\n",
        "videos_non_violence_RWF_val, labels_non_violence_RWF_val = read_videos_from_folder(val_non_violence, 'non_violence')\n",
        "\n",
        "\n",
        "# 5. Combine and summarize\n",
        "all_videos_train_RWF = videos_violence_RWF_train + videos_non_violence_RWF_train\n",
        "all_labels_train_RWF = labels_violence_RWF_train+ labels_non_violence_RWF_train\n",
        "\n",
        "all_videos_val_RWF = videos_violence_RWF_val + videos_non_violence_RWF_val\n",
        "all_labels_val_RWF= labels_violence_RWF_val+ labels_non_violence_RWF_val\n",
        "\n",
        "\n",
        "\n",
        "print(f\"✅ Total RwF train_videos loaded: {len(all_videos_train_RWF)}\")\n",
        "print(f\"✅ Total RWF val_videos loaded: {len(all_videos_val_RWF)}\")\n"
      ]
    },
    {
      "cell_type": "code",
      "source": [
        "# Print the mapping of labels to their numerical values\n",
        "label_mapping = dict(zip(label_encoder.classes_, label_encoder.transform(label_encoder.classes_)))\n",
        "print(\"Label Mapping:\", label_mapping)"
      ],
      "metadata": {
        "colab": {
          "base_uri": "https://localhost:8080/"
        },
        "id": "FfSP4Q8BVZev",
        "outputId": "5ca4379e-a993-4d02-c8c3-bb8e429bef6e"
      },
      "execution_count": null,
      "outputs": [
        {
          "output_type": "stream",
          "name": "stdout",
          "text": [
            "Label Mapping: {np.str_('non_violence'): np.int64(0), np.str_('violence'): np.int64(1)}\n"
          ]
        }
      ]
    },
    {
      "cell_type": "code",
      "execution_count": null,
      "metadata": {
        "colab": {
          "base_uri": "https://localhost:8080/"
        },
        "id": "WrYrJhg2_sZN",
        "outputId": "0929bd67-6ccf-43ef-dc9d-824f47cb5971"
      },
      "outputs": [
        {
          "output_type": "stream",
          "name": "stdout",
          "text": [
            "Training videos RLVS: 1468\n",
            "Validation videos RLVS: 367\n",
            "Training videos RWF: 1599\n",
            "Validation videos RWF: 400\n"
          ]
        }
      ],
      "source": [
        "import numpy as np\n",
        "from sklearn.model_selection import train_test_split\n",
        "from sklearn.preprocessing import LabelEncoder\n",
        "from tensorflow.keras.utils import to_categorical\n",
        "\n",
        "# Assume you have your labels in a list or array\n",
        "# For example, labels could be something like this:\n",
        "# all_labels = ['violence', 'non-violence', 'violence', ...]\n",
        "\n",
        "# Convert your video list and label list to numpy arrays for easier splitting\n",
        "all_videos_RLVS = np.array(all_videos_RLVS)\n",
        "all_videos_train_RWF= np.array(all_videos_train_RWF)\n",
        "all_videos_val_RWF = np.array(all_videos_val_RWF)\n",
        "\n",
        "all_labels_RLVS = np.array(all_labels_RLVS)  # Use the string labels\n",
        "all_labels_train_RWF = np.array(all_labels_train_RWF)\n",
        "all_labels_val_RWF= np.array(all_labels_val_RWF)\n",
        "\n",
        "\n",
        "\n",
        "\n",
        "# Encode the string labels to integer labels\n",
        "label_encoder = LabelEncoder()\n",
        "\n",
        "all_labels_RLVS_encoded = label_encoder.fit_transform(all_labels_RLVS)\n",
        "all_labels_train_RWF_encoded = label_encoder.fit_transform(all_labels_train_RWF)\n",
        "all_labels_val_RWF_encoded = label_encoder.fit_transform(all_labels_val_RWF)\n",
        "\n",
        "\n",
        "\n",
        "# Split into training (80%) and val (20%)\n",
        "all_videos_train_RLVS, all_videos_val_RLVS, all_labels_train_RLVS,all_labels_val_RLVS = train_test_split(\n",
        "    all_videos_RLVS, all_labels_RLVS_encoded, test_size=0.2, random_state=42, shuffle=True)\n",
        "\n",
        "\n",
        "\n",
        "print(f\"Training videos RLVS: {len(all_videos_train_RLVS)}\")\n",
        "print(f\"Validation videos RLVS: {len(all_videos_val_RLVS)}\")\n",
        "\n",
        "print(f\"Training videos RWF: {len(all_videos_train_RWF)}\")\n",
        "print(f\"Validation videos RWF: {len(all_videos_val_RWF)}\")\n",
        "\n",
        "\n",
        "\n",
        "\n"
      ]
    },
    {
      "cell_type": "code",
      "execution_count": null,
      "metadata": {
        "colab": {
          "base_uri": "https://localhost:8080/"
        },
        "id": "YVI_wrYn-mZX",
        "outputId": "b0de41cb-3c21-4301-937d-536112297634"
      },
      "outputs": [
        {
          "output_type": "stream",
          "name": "stdout",
          "text": [
            "Total training videos: 3067\n",
            "Total validation videos: 767\n"
          ]
        }
      ],
      "source": [
        "import numpy as np\n",
        "from sklearn.utils import shuffle\n",
        "\n",
        "# Combine training sets\n",
        "combined_videos_train = np.concatenate((all_videos_train_RLVS, all_videos_train_RWF))\n",
        "combined_labels_train = np.concatenate((all_labels_train_RLVS, all_labels_train_RWF_encoded))  # Make sure both are encoded\n",
        "\n",
        "# Combine validation sets\n",
        "combined_videos_val = np.concatenate((all_videos_val_RLVS, all_videos_val_RWF))\n",
        "combined_labels_val = np.concatenate((all_labels_val_RLVS, all_labels_val_RWF_encoded))  # Make sure both are encoded\n",
        "\n",
        "# Shuffle training data\n",
        "x_train, labels_train = shuffle(combined_videos_train, combined_labels_train, random_state=42)\n",
        "\n",
        "# Shuffle validation data\n",
        "x_val, labels_val = shuffle(combined_videos_val, combined_labels_val, random_state=42)\n",
        "\n",
        "# Check sizes\n",
        "print(f\"Total training videos: {len(x_train)}\")\n",
        "print(f\"Total validation videos: {len(x_val)}\")\n"
      ]
    },
    {
      "cell_type": "code",
      "execution_count": null,
      "metadata": {
        "colab": {
          "base_uri": "https://localhost:8080/"
        },
        "id": "RQu_nWz8CieC",
        "outputId": "fbeada99-f3f8-4c48-dfc0-ae9a99a51961"
      },
      "outputs": [
        {
          "output_type": "stream",
          "name": "stdout",
          "text": [
            "Training set size: 3067\n",
            "Validation set size: 767\n",
            "Test set size RLVS: 367\n",
            "Test set size RWF: 400\n",
            "torch.Size([16, 30, 112, 112, 3]) torch.Size([16])\n"
          ]
        }
      ],
      "source": [
        "import torch\n",
        "from torch.utils.data import Dataset, DataLoader\n",
        "import numpy as np\n",
        "\n",
        "class VideoDataset(Dataset):\n",
        "    def __init__(self, videos, labels):\n",
        "        self.videos = videos\n",
        "        self.labels = labels\n",
        "\n",
        "    def __len__(self):\n",
        "        return len(self.videos)\n",
        "\n",
        "    def __getitem__(self, idx):\n",
        "        video = self.videos[idx]\n",
        "        label = self.labels[idx]\n",
        "        video = video / 255.0\n",
        "        # Convert to tensors\n",
        "        video = torch.tensor(video, dtype=torch.float32)\n",
        "        label = torch.tensor(label, dtype=torch.long)\n",
        "        return video, label\n",
        "\n",
        "# Create datasets\n",
        "train_dataset = VideoDataset(x_train, labels_train)\n",
        "val_dataset = VideoDataset(x_val, labels_val)\n",
        "test_dataset_RLVS = VideoDataset(all_videos_val_RLVS, all_labels_val_RLVS)\n",
        "test_dataset_RWF = VideoDataset(all_videos_val_RWF, all_labels_val_RWF_encoded)\n",
        "\n",
        "# Create data loaders\n",
        "batch_size = 16\n",
        "\n",
        "train_loader = DataLoader(train_dataset, batch_size=batch_size, shuffle=True)\n",
        "val_loader = DataLoader(val_dataset, batch_size=batch_size, shuffle=False)\n",
        "test_loader_RLVS = DataLoader(test_dataset_RLVS, batch_size=batch_size, shuffle=False)\n",
        "test_loader_RWF= DataLoader(test_dataset_RWF, batch_size=batch_size, shuffle=False)\n",
        "\n",
        "# Print the sizes of the datasets\n",
        "print(f\"Training set size: {len(train_dataset)}\")\n",
        "print(f\"Validation set size: {len(val_dataset)}\")\n",
        "print(f\"Test set size RLVS: {len(test_dataset_RLVS)}\")\n",
        "print(f\"Test set size RWF: {len(test_dataset_RWF)}\")\n",
        "\n",
        "# Example of iterating through the data loader\n",
        "for videos, labels in train_loader:\n",
        "    print(videos.shape, labels.shape)\n",
        "    break\n"
      ]
    },
    {
      "cell_type": "code",
      "source": [
        "import matplotlib.pyplot as plt\n",
        "import torch\n",
        "import torch.nn as nn\n",
        "import torch.optim as optim\n",
        "import torch.nn.functional as F\n",
        "from torch.utils.data import DataLoader\n",
        "from sklearn.metrics import confusion_matrix, ConfusionMatrixDisplay\n",
        "import numpy as np\n",
        "\n",
        "class Video3DCNN(nn.Module):\n",
        "    def __init__(self):\n",
        "        super(Video3DCNN, self).__init__()\n",
        "        self.conv1 = nn.Conv3d(in_channels=3, out_channels=64, kernel_size=(3, 3, 3), stride=1, padding=1)\n",
        "        self.pool1 = nn.MaxPool3d(kernel_size=(1, 2, 2), stride=(1, 2, 2))\n",
        "        self.conv2 = nn.Conv3d(in_channels=64, out_channels=128, kernel_size=(3, 3, 3), stride=1, padding=1)\n",
        "        self.pool2 = nn.MaxPool3d(kernel_size=(2, 2, 2), stride=2)\n",
        "        self.conv3 = nn.Conv3d(in_channels=128, out_channels=256, kernel_size=(3, 3, 3), stride=1, padding=1)\n",
        "        self.pool3 = nn.MaxPool3d(kernel_size=(2, 2, 2), stride=2)\n",
        "\n",
        "        # Adjust this value based on actual output dimensions from the last pooling layer\n",
        "        self.flatten_dim = 256 * 7 * 14 * 14  # Example calculation, adjust as needed\n",
        "        self.fc1 = nn.Linear(self.flatten_dim, 1024)  # Adjust based on your input dimensions\n",
        "        self.fc2 = nn.Linear(1024, 2)  # Assuming binary classification\n",
        "\n",
        "    def forward(self, x):\n",
        "        x = self.pool1(F.relu(self.conv1(x)))\n",
        "        #print(f'After conv1 and pool1: {x.shape}')\n",
        "        x = self.pool2(F.relu(self.conv2(x)))\n",
        "        #print(f'After conv2 and pool2: {x.shape}')\n",
        "        x = self.pool3(F.relu(self.conv3(x)))\n",
        "        #print(f'After conv3 and pool3: {x.shape}')\n",
        "\n",
        "        # Use reshape instead of view\n",
        "        x = x.reshape(-1, self.flatten_dim)\n",
        "        #print(f'After reshaping: {x.shape}')\n",
        "\n",
        "        x = F.relu(self.fc1(x))\n",
        "        x = self.fc2(x)\n",
        "        return x\n",
        "\n",
        "\n",
        "# Instantiate the model, define the loss function and the optimizer\n",
        "model = Video3DCNN()\n",
        "model = model.to('cuda' if torch.cuda.is_available() else 'cpu')\n",
        "\n",
        "criterion = nn.CrossEntropyLoss()\n",
        "optimizer = optim.Adam(model.parameters(), lr=0.001)\n",
        "\n",
        "# Initialize lists to store loss and accuracy\n",
        "train_losses = []\n",
        "val_losses = []\n",
        "train_accuracies = []\n",
        "val_accuracies = []\n",
        "\n",
        "# Training loop\n",
        "num_epochs = 10  # Set the number of epochs\n",
        "\n",
        "for epoch in range(num_epochs):\n",
        "    model.train()\n",
        "    running_loss = 0.0\n",
        "    correct = 0\n",
        "    total = 0\n",
        "\n",
        "    for videos, labels in train_loader:\n",
        "        device = 'cuda' if torch.cuda.is_available() else 'cpu'\n",
        "        videos, labels = videos.to(device), labels.to(device)\n",
        "\n",
        "        optimizer.zero_grad()  # Zero the parameter gradients\n",
        "\n",
        "        outputs = model(videos.permute(0, 4, 1, 2, 3))  # Permute to (N, C, D, H, W)\n",
        "        loss = criterion(outputs, labels)\n",
        "        loss.backward()\n",
        "        optimizer.step()\n",
        "\n",
        "        running_loss += loss.item()\n",
        "\n",
        "        _, predicted = torch.max(outputs, 1)\n",
        "        total += labels.size(0)\n",
        "        correct += (predicted == labels).sum().item()\n",
        "\n",
        "    train_losses.append(running_loss / len(train_loader))\n",
        "    train_accuracies.append(100 * correct / total)\n",
        "\n",
        "    # Validation\n",
        "    model.eval()\n",
        "    val_loss = 0.0\n",
        "    correct = 0\n",
        "    total = 0\n",
        "\n",
        "    with torch.no_grad():\n",
        "        for videos, labels in test_loader_RLVS:\n",
        "            videos, labels = videos.to(device), labels.to(device)\n",
        "\n",
        "            outputs = model(videos.permute(0, 4, 1, 2, 3))\n",
        "            loss = criterion(outputs, labels)\n",
        "            val_loss += loss.item()\n",
        "\n",
        "            _, predicted = torch.max(outputs, 1)\n",
        "            total += labels.size(0)\n",
        "            correct += (predicted == labels).sum().item()\n",
        "\n",
        "    val_losses.append(val_loss / len(val_loader))\n",
        "    val_accuracies.append(100 * correct / total)\n",
        "\n",
        "    print(f\"Epoch {epoch + 1}/{num_epochs}, \"\n",
        "          f\"Train Loss: {train_losses[-1]:.4f}, Train Accuracy: {train_accuracies[-1]:.2f}%, \"\n",
        "          f\"Val Loss: {val_losses[-1]:.4f}, Val Accuracy: {val_accuracies[-1]:.2f}%\")\n",
        "\n",
        "# Plotting loss and accuracy\n",
        "epochs = range(1, num_epochs + 1)\n",
        "\n",
        "plt.figure(figsize=(14, 5))\n",
        "\n",
        "# Plot loss\n",
        "plt.subplot(1, 2, 1)\n",
        "plt.plot(epochs, train_losses, label='Training Loss')\n",
        "plt.plot(epochs, val_losses, label='Validation Loss')\n",
        "plt.xlabel('Epochs')\n",
        "plt.ylabel('Loss')\n",
        "plt.title('Loss over Epochs')\n",
        "plt.legend()\n",
        "\n",
        "# Plot accuracy\n",
        "plt.subplot(1, 2, 2)\n",
        "plt.plot(epochs, train_accuracies, label='Training Accuracy')\n",
        "plt.plot(epochs, val_accuracies, label='Validation Accuracy')\n",
        "plt.xlabel('Epochs')\n",
        "plt.ylabel('Accuracy')\n",
        "plt.title('Accuracy over Epochs')\n",
        "plt.legend()\n",
        "\n",
        "plt.show()\n",
        "\n",
        "# Test loop and confusion matrix\n",
        "model.eval()\n",
        "test_loss = 0.0\n",
        "correct = 0\n",
        "total = 0\n",
        "all_labels = []\n",
        "all_predictions = []\n",
        "\n",
        "with torch.no_grad():\n",
        "    for videos, labels in test_loader_RWF:\n",
        "        videos, labels = videos.to(device), labels.to(device)\n",
        "\n",
        "        outputs = model(videos.permute(0, 4, 1, 2, 3))\n",
        "        loss = criterion(outputs, labels)\n",
        "        test_loss += loss.item()\n",
        "\n",
        "        _, predicted = torch.max(outputs, 1)\n",
        "        total += labels.size(0)\n",
        "        correct += (predicted == labels).sum().item()\n",
        "\n",
        "        all_labels.extend(labels.cpu().numpy())\n",
        "        all_predictions.extend(predicted.cpu().numpy())\n",
        "\n",
        "print(f\"Test Loss: {test_loss / len(test_loader)}, Accuracy: {100 * correct / total}%\")\n",
        "\n",
        "# Plot confusion matrix\n",
        "cm = confusion_matrix(all_labels, all_predictions, labels=[0, 1])\n",
        "disp = ConfusionMatrixDisplay(confusion_matrix=cm, display_labels=['nonviolence', 'violence'])\n",
        "disp.plot(cmap=plt.cm.Blues)\n",
        "plt.title('Confusion Matrix')\n",
        "plt.show()\n"
      ],
      "metadata": {
        "colab": {
          "base_uri": "https://localhost:8080/",
          "height": 709
        },
        "id": "_WYdFes1Eqk6",
        "outputId": "82e37730-b89a-4b09-8ff6-44d8651f9e28"
      },
      "execution_count": null,
      "outputs": [
        {
          "output_type": "stream",
          "name": "stdout",
          "text": [
            "Epoch 1/10, Train Loss: 1.3261, Train Accuracy: 55.95%, Val Loss: 0.2750, Val Accuracy: 74.39%\n",
            "Epoch 2/10, Train Loss: 0.6180, Train Accuracy: 66.61%, Val Loss: 0.2529, Val Accuracy: 76.29%\n",
            "Epoch 3/10, Train Loss: 0.5442, Train Accuracy: 70.82%, Val Loss: 0.2344, Val Accuracy: 78.75%\n",
            "Epoch 4/10, Train Loss: 0.4663, Train Accuracy: 77.67%, Val Loss: 0.2049, Val Accuracy: 80.11%\n",
            "Epoch 5/10, Train Loss: 0.3368, Train Accuracy: 84.09%, Val Loss: 0.2228, Val Accuracy: 79.02%\n",
            "Epoch 6/10, Train Loss: 0.1800, Train Accuracy: 92.37%, Val Loss: 0.3614, Val Accuracy: 77.66%\n",
            "Epoch 7/10, Train Loss: 0.0952, Train Accuracy: 96.58%, Val Loss: 0.3247, Val Accuracy: 81.47%\n",
            "Epoch 8/10, Train Loss: 0.0417, Train Accuracy: 98.40%, Val Loss: 0.5163, Val Accuracy: 81.20%\n",
            "Epoch 9/10, Train Loss: 0.0454, Train Accuracy: 98.63%, Val Loss: 0.4266, Val Accuracy: 83.92%\n",
            "Epoch 10/10, Train Loss: 0.0224, Train Accuracy: 99.25%, Val Loss: 0.6087, Val Accuracy: 82.02%\n"
          ]
        },
        {
          "output_type": "display_data",
          "data": {
            "text/plain": [
              "<Figure size 1400x500 with 2 Axes>"
            ],
            "image/png": "[encoded data removed]"
          },
          "metadata": {}
        },
        {
          "output_type": "error",
          "ename": "NameError",
          "evalue": "name 'test_loader' is not defined",
          "traceback": [
            "\u001b[0;31m---------------------------------------------------------------------------\u001b[0m",
            "\u001b[0;31mNameError\u001b[0m                                 Traceback (most recent call last)",
            "\u001b[0;32m/tmp/ipython-input-11-2635937750.py\u001b[0m in \u001b[0;36m<cell line: 0>\u001b[0;34m()\u001b[0m\n\u001b[1;32m    155\u001b[0m         \u001b[0mall_predictions\u001b[0m\u001b[0;34m.\u001b[0m\u001b[0mextend\u001b[0m\u001b[0;34m(\u001b[0m\u001b[0mpredicted\u001b[0m\u001b[0;34m.\u001b[0m\u001b[0mcpu\u001b[0m\u001b[0;34m(\u001b[0m\u001b[0;34m)\u001b[0m\u001b[0;34m.\u001b[0m\u001b[0mnumpy\u001b[0m\u001b[0;34m(\u001b[0m\u001b[0;34m)\u001b[0m\u001b[0;34m)\u001b[0m\u001b[0;34m\u001b[0m\u001b[0;34m\u001b[0m\u001b[0m\n\u001b[1;32m    156\u001b[0m \u001b[0;34m\u001b[0m\u001b[0m\n\u001b[0;32m--> 157\u001b[0;31m \u001b[0mprint\u001b[0m\u001b[0;34m(\u001b[0m\u001b[0;34mf\"Test Loss: {test_loss / len(test_loader)}, Accuracy: {100 * correct / total}%\"\u001b[0m\u001b[0;34m)\u001b[0m\u001b[0;34m\u001b[0m\u001b[0;34m\u001b[0m\u001b[0m\n\u001b[0m\u001b[1;32m    158\u001b[0m \u001b[0;34m\u001b[0m\u001b[0m\n\u001b[1;32m    159\u001b[0m \u001b[0;31m# Plot confusion matrix\u001b[0m\u001b[0;34m\u001b[0m\u001b[0;34m\u001b[0m\u001b[0m\n",
            "\u001b[0;31mNameError\u001b[0m: name 'test_loader' is not defined"
          ]
        }
      ]
    },
    {
      "cell_type": "code",
      "source": [
        "import matplotlib.pyplot as plt\n",
        "import torch\n",
        "import torch.nn as nn\n",
        "import torch.optim as optim\n",
        "import torch.nn.functional as F\n",
        "from torch.utils.data import DataLoader\n",
        "from sklearn.metrics import confusion_matrix, ConfusionMatrixDisplay\n",
        "import numpy as np\n",
        "class Video3DCNN(nn.Module):\n",
        "    def __init__(self):\n",
        "        super(Video3DCNN, self).__init__()\n",
        "        self.conv1 = nn.Conv3d(in_channels=3, out_channels=64, kernel_size=(3, 3, 3), stride=1, padding=1)\n",
        "        self.pool1 = nn.MaxPool3d(kernel_size=(1, 2, 2), stride=(1, 2, 2))\n",
        "        self.conv2 = nn.Conv3d(in_channels=64, out_channels=128, kernel_size=(3, 3, 3), stride=1, padding=1)\n",
        "        self.pool2 = nn.MaxPool3d(kernel_size=(2, 2, 2), stride=2)\n",
        "        self.conv3 = nn.Conv3d(in_channels=128, out_channels=256, kernel_size=(3, 3, 3), stride=1, padding=1)\n",
        "        self.pool3 = nn.MaxPool3d(kernel_size=(2, 2, 2), stride=2)\n",
        "\n",
        "        # Adjust this value based on actual output dimensions from the last pooling layer\n",
        "        self.flatten_dim = 256 * 7 * 14 * 14  # Example calculation, adjust as needed\n",
        "        self.fc1 = nn.Linear(self.flatten_dim, 1024)  # Adjust based on your input dimensions\n",
        "        self.fc2 = nn.Linear(1024, 2)  # Assuming binary classification\n",
        "\n",
        "    def forward(self, x):\n",
        "        x = self.pool1(F.relu(self.conv1(x)))\n",
        "        #print(f'After conv1 and pool1: {x.shape}')\n",
        "        x = self.pool2(F.relu(self.conv2(x)))\n",
        "        #print(f'After conv2 and pool2: {x.shape}')\n",
        "        x = self.pool3(F.relu(self.conv3(x)))\n",
        "        #print(f'After conv3 and pool3: {x.shape}')\n",
        "\n",
        "        # Use reshape instead of view\n",
        "        x = x.reshape(-1, self.flatten_dim)\n",
        "        #print(f'After reshaping: {x.shape}')\n",
        "\n",
        "        x = F.relu(self.fc1(x))\n",
        "        x = self.fc2(x)\n",
        "        return x\n"
      ],
      "metadata": {
        "id": "nB6NTEnHsehG"
      },
      "execution_count": null,
      "outputs": []
    },
    {
      "cell_type": "code",
      "execution_count": null,
      "metadata": {
        "colab": {
          "base_uri": "https://localhost:8080/"
        },
        "id": "-mQowzBiFZ3L",
        "outputId": "72ea1818-570a-410d-ae23-54b8f2b15192"
      },
      "outputs": [
        {
          "output_type": "stream",
          "name": "stdout",
          "text": [
            "Total trainable parameters: 360,776,194\n",
            "Model size: 1376.25 MB\n"
          ]
        }
      ],
      "source": [
        "def count_parameters(model):\n",
        "    return sum(p.numel() for p in model.parameters() if p.requires_grad)\n",
        "model = Video3DCNN()\n",
        "model = model.to('cuda' if torch.cuda.is_available() else 'cpu')\n",
        "\n",
        "total_params = count_parameters(model)\n",
        "print(f\"Total trainable parameters: {total_params:,}\")\n",
        "\n",
        "def get_model_size(model):\n",
        "    param_size = 0\n",
        "    for param in model.parameters():\n",
        "        param_size += param.nelement() * param.element_size()\n",
        "    buffer_size = 0\n",
        "    for buffer in model.buffers():\n",
        "        buffer_size += buffer.nelement() * buffer.element_size()\n",
        "    size_all_mb = (param_size + buffer_size) / 1024**2\n",
        "    return size_all_mb\n",
        "\n",
        "model_size_mb = get_model_size(model)\n",
        "print(f\"Model size: {model_size_mb:.2f} MB\")"
      ]
    }
  ]
}